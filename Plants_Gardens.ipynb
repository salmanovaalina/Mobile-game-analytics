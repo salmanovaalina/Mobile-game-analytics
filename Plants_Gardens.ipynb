{
 "cells": [
  {
   "cell_type": "markdown",
   "metadata": {},
   "source": [
    "# **Вариант 1**"
   ]
  },
  {
   "cell_type": "markdown",
   "metadata": {},
   "source": [
    "**Представьте, что вы работаете в компании, которая разрабатывает мобильные игры. К вам пришел менеджер с рядом задач по исследованию нескольких аспектов мобильного приложения:**\n",
    "\n",
    "1. В первую очередь, его интересует показатель retention. Напишите функцию для его подсчета.\n",
    "2. Помимо этого, в компании провели A/B тестирование наборов акционных предложений. На основе имеющихся данных определите, какой набор можно считать лучшим и на основе каких метрик стоит принять правильное решение.\n",
    "3. Предложите метрики для оценки результатов последнего прошедшего тематического события в игре."
   ]
  },
  {
   "cell_type": "markdown",
   "metadata": {},
   "source": [
    "**Задание 1**\n",
    "\n",
    "Retention – один из самых важных показателей в компании. Ваша задача – написать функцию, которая будет считать retention игроков (по дням от даты регистрации игрока). Данные лежат в папке shared и имеют следующую структуру:\n",
    "\n",
    "shared/problem1-reg_data.csv – данные о времени регистрации\n",
    "- reg_ts\t\n",
    "- uid\n",
    "\n",
    "shared/problem1-auth_data.csv – данные о времени захода пользователей в игру\n",
    "- auth_ts\t\n",
    "- uid"
   ]
  },
  {
   "cell_type": "code",
   "execution_count": 1,
   "metadata": {},
   "outputs": [
    {
     "name": "stderr",
     "output_type": "stream",
     "text": [
      "/opt/tljh/user/lib/python3.7/site-packages/outdated/utils.py:18: OutdatedCacheFailedWarning: Failed to use cache while checking for outdated package.\n",
      "Set the environment variable OUTDATED_RAISE_EXCEPTION=1 for a full traceback.\n",
      "Set the environment variable OUTDATED_IGNORE=1 to disable these warnings.\n",
      "  **kwargs\n",
      "/opt/tljh/user/lib/python3.7/site-packages/outdated/utils.py:18: OutdatedPackageWarning: The package pingouin is out of date. Your version is 0.4.0, the latest is 0.5.4.\n",
      "Set the environment variable OUTDATED_IGNORE=1 to disable these warnings.\n",
      "  **kwargs\n",
      "/opt/tljh/user/lib/python3.7/site-packages/outdated/utils.py:18: OutdatedPackageWarning: The package outdated is out of date. Your version is 0.2.1, the latest is 0.2.2.\n",
      "Set the environment variable OUTDATED_IGNORE=1 to disable these warnings.\n",
      "  **kwargs\n"
     ]
    }
   ],
   "source": [
    "# Импортируем нужные библиотеки\n",
    "import pandas as pd\n",
    "import numpy as np\n",
    "import matplotlib.pyplot as plt\n",
    "import seaborn as sns\n",
    "import scipy.stats as ss\n",
    "import pingouin as pg\n",
    "from tqdm.auto import tqdm\n",
    "from datetime import datetime\n",
    "from scipy.stats import norm\n",
    "from scipy.stats import chi2_contingency, chi2 \n",
    "\n",
    "%matplotlib inline"
   ]
  },
  {
   "cell_type": "code",
   "execution_count": 2,
   "metadata": {},
   "outputs": [],
   "source": [
    "# Импортируем данные\n",
    "df_registrations = pd.read_csv('/mnt/HC_Volume_18315164/home-jupyter/jupyter-a-salmanova/shared/problem1-reg_data.csv', sep=';') # таблица с уникальными идентификаторами пользователей\n",
    "df_autorizations = pd.read_csv('/mnt/HC_Volume_18315164/home-jupyter/jupyter-a-salmanova/shared/problem1-auth_data.csv', sep=';') # таблица с уникальными идентификаторами пользователей"
   ]
  },
  {
   "cell_type": "code",
   "execution_count": 3,
   "metadata": {},
   "outputs": [
    {
     "name": "stdout",
     "output_type": "stream",
     "text": [
      "reg_ts    int64\n",
      "uid       int64\n",
      "dtype: object\n",
      "auth_ts    int64\n",
      "uid        int64\n",
      "dtype: object\n"
     ]
    }
   ],
   "source": [
    "# Изучим два датасета\n",
    "# Посмотрим на типы данных:\n",
    "print(format(df_registrations.dtypes))\n",
    "print(format(df_autorizations.dtypes))"
   ]
  },
  {
   "cell_type": "code",
   "execution_count": 4,
   "metadata": {},
   "outputs": [
    {
     "name": "stdout",
     "output_type": "stream",
     "text": [
      "reg_ts    1000000\n",
      "uid       1000000\n",
      "dtype: int64\n",
      "auth_ts    9180915\n",
      "uid        1000000\n",
      "dtype: int64\n"
     ]
    }
   ],
   "source": [
    "# Посчитаем число уникальных значений для каждой колонки:\n",
    "print(format(df_registrations.nunique()))\n",
    "print(format(df_autorizations.nunique()))"
   ]
  },
  {
   "cell_type": "code",
   "execution_count": 5,
   "metadata": {},
   "outputs": [
    {
     "name": "stdout",
     "output_type": "stream",
     "text": [
      "MIN - 1998-11-18\n",
      "MAX - 2020-09-23\n"
     ]
    }
   ],
   "source": [
    "# Посчитаем временной промежуток регистраций\n",
    "print('MIN -', datetime.utcfromtimestamp(df_registrations.reg_ts.min()).strftime('%Y-%m-%d'))\n",
    "print('MAX -', datetime.utcfromtimestamp(df_registrations.reg_ts.max()).strftime('%Y-%m-%d'))"
   ]
  },
  {
   "cell_type": "markdown",
   "metadata": {},
   "source": [
    "В наших таблицах данные с ноября 1998г по сентябрь 2020. Мы можем сразу сказать, что временной промежуток одинаковый, тк кол-во уникальых пользователей совпадает и объединение можно делать именно по этой колонке без задвоений.\n",
    "В датасете df_registrations все пользователи - уникальны и встречаются только 1 раз. В датасете df_autorizations представлены все те же пользователи, как и в df_registrations, однако некоторые заходили в приложение более 1 раза, так как кол-во уникальных пользователей = 1000000, а число уникальных строк с временем захода пользователя в игру равно 9180915."
   ]
  },
  {
   "cell_type": "markdown",
   "metadata": {},
   "source": [
    "Retention - коэффициент удержания клиентов. Показывает, насколько хорошо компания выстраивает долгосрочные отношения с клиентами.\n",
    "- Расчитываем Retention от заданной даты до конца необходимого периода. \n",
    "- Нужно будет ввести дату начала и продолжительность. \n",
    "- Для всех выбранных дат рассчитаем Retention в заданном промежутке."
   ]
  },
  {
   "cell_type": "code",
   "execution_count": 6,
   "metadata": {},
   "outputs": [],
   "source": [
    "def getting_retention_by_period(df_registrations, df_autorizations, start_date, period):\n",
    "    # date_first  - дата начала \n",
    "    # date_last - дата окончания \n",
    "    # file_of_registrations - файл с регистрациями\n",
    "    # file_of_autorizations - файл с заходами в игру\n",
    "    \n",
    "    start_date = pd.to_datetime(start_date).strftime('%Y-%m-%d')\n",
    "    finish_date = (pd.to_datetime(start_date) + pd.Timedelta(days=period)).strftime('%Y-%m-%d')\n",
    "    \n",
    "    # объединяем файлы в один по номеру пользователя\n",
    "    df_all = df_autorizations.merge(df_registrations, on='uid')\n",
    "    # вводим столбцы с корректным для анализа отображением дат\n",
    "    df_all['registration_date'] = pd.to_datetime(df_all.reg_ts, unit='s').apply(lambda x: x.strftime('%Y-%m-%d'))\n",
    "    df_all['autorization_date'] = pd.to_datetime(df_all.auth_ts, unit='s').apply(lambda x: x.strftime('%Y-%m-%d'))\n",
    "    df_all['registration_date'] = pd.to_datetime(df_all['registration_date'])\n",
    "    df_all['autorization_date'] = pd.to_datetime(df_all['autorization_date'])\n",
    "    # удаляем лишние столбцы\n",
    "    df_all = df_all.drop(['reg_ts', 'auth_ts'], axis=1)\n",
    "    #  вводим столбец где посчитаем сколько дней прошло с момента регистрации до конкретного захода\n",
    "    df_all['lifetime'] = ((df_all['autorization_date'] - df_all['registration_date'])/np.timedelta64(1, 'D')).round().astype(int)\n",
    "    \n",
    "    # Оставляем данные только с необходимым для анализа временным промежутком\n",
    "    df_necessary_dates = df_all[(df_all['registration_date'] >= start_date) & (df_all['autorization_date'] <= finish_date) & (df_all['lifetime'] <= period)]\n",
    "    # Группируем данные по дате регистрации и дням с момента регистрации, считаем количество уникальных пользователей\n",
    "    cohort_data = df_necessary_dates.groupby(['lifetime','registration_date'])['uid'].apply(pd.Series.nunique).reset_index()\n",
    "    # Считаем retention и выводим его в отдельную таблицу\n",
    "    retention = cohort_data.pivot_table(index='registration_date', columns='lifetime', values='uid')\n",
    "    retention = retention.divide(retention.iloc[:,0],axis=0).fillna(0).round(3)\n",
    "    \n",
    "    # Визуализируем данные\n",
    "    plt.figure(figsize=(17, 8))\n",
    "    ax = sns.heatmap(retention, cmap=\"YlGnBu\", annot=True, fmt=\".1%\", vmax=0.1)\n",
    "    ax.set_title('Retention Rate {} days from {}'.format(period, start_date), fontsize=30)\n",
    "    sns.despine()\n",
    "    \n",
    "    \n",
    "    return retention"
   ]
  },
  {
   "cell_type": "code",
   "execution_count": 7,
   "metadata": {},
   "outputs": [
    {
     "data": {
      "text/html": [
       "<div>\n",
       "<style scoped>\n",
       "    .dataframe tbody tr th:only-of-type {\n",
       "        vertical-align: middle;\n",
       "    }\n",
       "\n",
       "    .dataframe tbody tr th {\n",
       "        vertical-align: top;\n",
       "    }\n",
       "\n",
       "    .dataframe thead th {\n",
       "        text-align: right;\n",
       "    }\n",
       "</style>\n",
       "<table border=\"1\" class=\"dataframe\">\n",
       "  <thead>\n",
       "    <tr style=\"text-align: right;\">\n",
       "      <th>lifetime</th>\n",
       "      <th>0</th>\n",
       "      <th>1</th>\n",
       "      <th>2</th>\n",
       "      <th>3</th>\n",
       "      <th>4</th>\n",
       "      <th>5</th>\n",
       "      <th>6</th>\n",
       "      <th>7</th>\n",
       "      <th>8</th>\n",
       "      <th>9</th>\n",
       "      <th>10</th>\n",
       "      <th>11</th>\n",
       "      <th>12</th>\n",
       "      <th>13</th>\n",
       "      <th>14</th>\n",
       "      <th>15</th>\n",
       "    </tr>\n",
       "    <tr>\n",
       "      <th>registration_date</th>\n",
       "      <th></th>\n",
       "      <th></th>\n",
       "      <th></th>\n",
       "      <th></th>\n",
       "      <th></th>\n",
       "      <th></th>\n",
       "      <th></th>\n",
       "      <th></th>\n",
       "      <th></th>\n",
       "      <th></th>\n",
       "      <th></th>\n",
       "      <th></th>\n",
       "      <th></th>\n",
       "      <th></th>\n",
       "      <th></th>\n",
       "      <th></th>\n",
       "    </tr>\n",
       "  </thead>\n",
       "  <tbody>\n",
       "    <tr>\n",
       "      <th>2020-09-01</th>\n",
       "      <td>1.0</td>\n",
       "      <td>0.020</td>\n",
       "      <td>0.041</td>\n",
       "      <td>0.042</td>\n",
       "      <td>0.046</td>\n",
       "      <td>0.064</td>\n",
       "      <td>0.056</td>\n",
       "      <td>0.064</td>\n",
       "      <td>0.041</td>\n",
       "      <td>0.054</td>\n",
       "      <td>0.051</td>\n",
       "      <td>0.054</td>\n",
       "      <td>0.049</td>\n",
       "      <td>0.055</td>\n",
       "      <td>0.043</td>\n",
       "      <td>0.044</td>\n",
       "    </tr>\n",
       "    <tr>\n",
       "      <th>2020-09-02</th>\n",
       "      <td>1.0</td>\n",
       "      <td>0.025</td>\n",
       "      <td>0.039</td>\n",
       "      <td>0.047</td>\n",
       "      <td>0.057</td>\n",
       "      <td>0.062</td>\n",
       "      <td>0.071</td>\n",
       "      <td>0.063</td>\n",
       "      <td>0.048</td>\n",
       "      <td>0.041</td>\n",
       "      <td>0.057</td>\n",
       "      <td>0.055</td>\n",
       "      <td>0.055</td>\n",
       "      <td>0.043</td>\n",
       "      <td>0.050</td>\n",
       "      <td>0.000</td>\n",
       "    </tr>\n",
       "    <tr>\n",
       "      <th>2020-09-03</th>\n",
       "      <td>1.0</td>\n",
       "      <td>0.023</td>\n",
       "      <td>0.054</td>\n",
       "      <td>0.047</td>\n",
       "      <td>0.065</td>\n",
       "      <td>0.070</td>\n",
       "      <td>0.085</td>\n",
       "      <td>0.063</td>\n",
       "      <td>0.055</td>\n",
       "      <td>0.063</td>\n",
       "      <td>0.063</td>\n",
       "      <td>0.055</td>\n",
       "      <td>0.058</td>\n",
       "      <td>0.060</td>\n",
       "      <td>0.000</td>\n",
       "      <td>0.000</td>\n",
       "    </tr>\n",
       "    <tr>\n",
       "      <th>2020-09-04</th>\n",
       "      <td>1.0</td>\n",
       "      <td>0.020</td>\n",
       "      <td>0.036</td>\n",
       "      <td>0.036</td>\n",
       "      <td>0.051</td>\n",
       "      <td>0.064</td>\n",
       "      <td>0.073</td>\n",
       "      <td>0.050</td>\n",
       "      <td>0.053</td>\n",
       "      <td>0.043</td>\n",
       "      <td>0.056</td>\n",
       "      <td>0.055</td>\n",
       "      <td>0.043</td>\n",
       "      <td>0.000</td>\n",
       "      <td>0.000</td>\n",
       "      <td>0.000</td>\n",
       "    </tr>\n",
       "    <tr>\n",
       "      <th>2020-09-05</th>\n",
       "      <td>1.0</td>\n",
       "      <td>0.028</td>\n",
       "      <td>0.039</td>\n",
       "      <td>0.046</td>\n",
       "      <td>0.055</td>\n",
       "      <td>0.059</td>\n",
       "      <td>0.075</td>\n",
       "      <td>0.049</td>\n",
       "      <td>0.051</td>\n",
       "      <td>0.055</td>\n",
       "      <td>0.060</td>\n",
       "      <td>0.052</td>\n",
       "      <td>0.000</td>\n",
       "      <td>0.000</td>\n",
       "      <td>0.000</td>\n",
       "      <td>0.000</td>\n",
       "    </tr>\n",
       "    <tr>\n",
       "      <th>2020-09-06</th>\n",
       "      <td>1.0</td>\n",
       "      <td>0.031</td>\n",
       "      <td>0.043</td>\n",
       "      <td>0.054</td>\n",
       "      <td>0.056</td>\n",
       "      <td>0.059</td>\n",
       "      <td>0.068</td>\n",
       "      <td>0.061</td>\n",
       "      <td>0.058</td>\n",
       "      <td>0.055</td>\n",
       "      <td>0.049</td>\n",
       "      <td>0.000</td>\n",
       "      <td>0.000</td>\n",
       "      <td>0.000</td>\n",
       "      <td>0.000</td>\n",
       "      <td>0.000</td>\n",
       "    </tr>\n",
       "    <tr>\n",
       "      <th>2020-09-07</th>\n",
       "      <td>1.0</td>\n",
       "      <td>0.029</td>\n",
       "      <td>0.042</td>\n",
       "      <td>0.054</td>\n",
       "      <td>0.051</td>\n",
       "      <td>0.064</td>\n",
       "      <td>0.073</td>\n",
       "      <td>0.052</td>\n",
       "      <td>0.041</td>\n",
       "      <td>0.056</td>\n",
       "      <td>0.000</td>\n",
       "      <td>0.000</td>\n",
       "      <td>0.000</td>\n",
       "      <td>0.000</td>\n",
       "      <td>0.000</td>\n",
       "      <td>0.000</td>\n",
       "    </tr>\n",
       "    <tr>\n",
       "      <th>2020-09-08</th>\n",
       "      <td>1.0</td>\n",
       "      <td>0.017</td>\n",
       "      <td>0.039</td>\n",
       "      <td>0.039</td>\n",
       "      <td>0.049</td>\n",
       "      <td>0.076</td>\n",
       "      <td>0.075</td>\n",
       "      <td>0.066</td>\n",
       "      <td>0.052</td>\n",
       "      <td>0.000</td>\n",
       "      <td>0.000</td>\n",
       "      <td>0.000</td>\n",
       "      <td>0.000</td>\n",
       "      <td>0.000</td>\n",
       "      <td>0.000</td>\n",
       "      <td>0.000</td>\n",
       "    </tr>\n",
       "    <tr>\n",
       "      <th>2020-09-09</th>\n",
       "      <td>1.0</td>\n",
       "      <td>0.017</td>\n",
       "      <td>0.032</td>\n",
       "      <td>0.047</td>\n",
       "      <td>0.057</td>\n",
       "      <td>0.067</td>\n",
       "      <td>0.057</td>\n",
       "      <td>0.059</td>\n",
       "      <td>0.000</td>\n",
       "      <td>0.000</td>\n",
       "      <td>0.000</td>\n",
       "      <td>0.000</td>\n",
       "      <td>0.000</td>\n",
       "      <td>0.000</td>\n",
       "      <td>0.000</td>\n",
       "      <td>0.000</td>\n",
       "    </tr>\n",
       "    <tr>\n",
       "      <th>2020-09-10</th>\n",
       "      <td>1.0</td>\n",
       "      <td>0.021</td>\n",
       "      <td>0.043</td>\n",
       "      <td>0.048</td>\n",
       "      <td>0.042</td>\n",
       "      <td>0.068</td>\n",
       "      <td>0.063</td>\n",
       "      <td>0.000</td>\n",
       "      <td>0.000</td>\n",
       "      <td>0.000</td>\n",
       "      <td>0.000</td>\n",
       "      <td>0.000</td>\n",
       "      <td>0.000</td>\n",
       "      <td>0.000</td>\n",
       "      <td>0.000</td>\n",
       "      <td>0.000</td>\n",
       "    </tr>\n",
       "    <tr>\n",
       "      <th>2020-09-11</th>\n",
       "      <td>1.0</td>\n",
       "      <td>0.013</td>\n",
       "      <td>0.040</td>\n",
       "      <td>0.045</td>\n",
       "      <td>0.056</td>\n",
       "      <td>0.057</td>\n",
       "      <td>0.000</td>\n",
       "      <td>0.000</td>\n",
       "      <td>0.000</td>\n",
       "      <td>0.000</td>\n",
       "      <td>0.000</td>\n",
       "      <td>0.000</td>\n",
       "      <td>0.000</td>\n",
       "      <td>0.000</td>\n",
       "      <td>0.000</td>\n",
       "      <td>0.000</td>\n",
       "    </tr>\n",
       "    <tr>\n",
       "      <th>2020-09-12</th>\n",
       "      <td>1.0</td>\n",
       "      <td>0.019</td>\n",
       "      <td>0.038</td>\n",
       "      <td>0.047</td>\n",
       "      <td>0.046</td>\n",
       "      <td>0.000</td>\n",
       "      <td>0.000</td>\n",
       "      <td>0.000</td>\n",
       "      <td>0.000</td>\n",
       "      <td>0.000</td>\n",
       "      <td>0.000</td>\n",
       "      <td>0.000</td>\n",
       "      <td>0.000</td>\n",
       "      <td>0.000</td>\n",
       "      <td>0.000</td>\n",
       "      <td>0.000</td>\n",
       "    </tr>\n",
       "    <tr>\n",
       "      <th>2020-09-13</th>\n",
       "      <td>1.0</td>\n",
       "      <td>0.020</td>\n",
       "      <td>0.041</td>\n",
       "      <td>0.043</td>\n",
       "      <td>0.000</td>\n",
       "      <td>0.000</td>\n",
       "      <td>0.000</td>\n",
       "      <td>0.000</td>\n",
       "      <td>0.000</td>\n",
       "      <td>0.000</td>\n",
       "      <td>0.000</td>\n",
       "      <td>0.000</td>\n",
       "      <td>0.000</td>\n",
       "      <td>0.000</td>\n",
       "      <td>0.000</td>\n",
       "      <td>0.000</td>\n",
       "    </tr>\n",
       "    <tr>\n",
       "      <th>2020-09-14</th>\n",
       "      <td>1.0</td>\n",
       "      <td>0.022</td>\n",
       "      <td>0.038</td>\n",
       "      <td>0.000</td>\n",
       "      <td>0.000</td>\n",
       "      <td>0.000</td>\n",
       "      <td>0.000</td>\n",
       "      <td>0.000</td>\n",
       "      <td>0.000</td>\n",
       "      <td>0.000</td>\n",
       "      <td>0.000</td>\n",
       "      <td>0.000</td>\n",
       "      <td>0.000</td>\n",
       "      <td>0.000</td>\n",
       "      <td>0.000</td>\n",
       "      <td>0.000</td>\n",
       "    </tr>\n",
       "    <tr>\n",
       "      <th>2020-09-15</th>\n",
       "      <td>1.0</td>\n",
       "      <td>0.022</td>\n",
       "      <td>0.000</td>\n",
       "      <td>0.000</td>\n",
       "      <td>0.000</td>\n",
       "      <td>0.000</td>\n",
       "      <td>0.000</td>\n",
       "      <td>0.000</td>\n",
       "      <td>0.000</td>\n",
       "      <td>0.000</td>\n",
       "      <td>0.000</td>\n",
       "      <td>0.000</td>\n",
       "      <td>0.000</td>\n",
       "      <td>0.000</td>\n",
       "      <td>0.000</td>\n",
       "      <td>0.000</td>\n",
       "    </tr>\n",
       "    <tr>\n",
       "      <th>2020-09-16</th>\n",
       "      <td>1.0</td>\n",
       "      <td>0.000</td>\n",
       "      <td>0.000</td>\n",
       "      <td>0.000</td>\n",
       "      <td>0.000</td>\n",
       "      <td>0.000</td>\n",
       "      <td>0.000</td>\n",
       "      <td>0.000</td>\n",
       "      <td>0.000</td>\n",
       "      <td>0.000</td>\n",
       "      <td>0.000</td>\n",
       "      <td>0.000</td>\n",
       "      <td>0.000</td>\n",
       "      <td>0.000</td>\n",
       "      <td>0.000</td>\n",
       "      <td>0.000</td>\n",
       "    </tr>\n",
       "  </tbody>\n",
       "</table>\n",
       "</div>"
      ],
      "text/plain": [
       "lifetime            0      1      2      3      4      5      6      7   \\\n",
       "registration_date                                                         \n",
       "2020-09-01         1.0  0.020  0.041  0.042  0.046  0.064  0.056  0.064   \n",
       "2020-09-02         1.0  0.025  0.039  0.047  0.057  0.062  0.071  0.063   \n",
       "2020-09-03         1.0  0.023  0.054  0.047  0.065  0.070  0.085  0.063   \n",
       "2020-09-04         1.0  0.020  0.036  0.036  0.051  0.064  0.073  0.050   \n",
       "2020-09-05         1.0  0.028  0.039  0.046  0.055  0.059  0.075  0.049   \n",
       "2020-09-06         1.0  0.031  0.043  0.054  0.056  0.059  0.068  0.061   \n",
       "2020-09-07         1.0  0.029  0.042  0.054  0.051  0.064  0.073  0.052   \n",
       "2020-09-08         1.0  0.017  0.039  0.039  0.049  0.076  0.075  0.066   \n",
       "2020-09-09         1.0  0.017  0.032  0.047  0.057  0.067  0.057  0.059   \n",
       "2020-09-10         1.0  0.021  0.043  0.048  0.042  0.068  0.063  0.000   \n",
       "2020-09-11         1.0  0.013  0.040  0.045  0.056  0.057  0.000  0.000   \n",
       "2020-09-12         1.0  0.019  0.038  0.047  0.046  0.000  0.000  0.000   \n",
       "2020-09-13         1.0  0.020  0.041  0.043  0.000  0.000  0.000  0.000   \n",
       "2020-09-14         1.0  0.022  0.038  0.000  0.000  0.000  0.000  0.000   \n",
       "2020-09-15         1.0  0.022  0.000  0.000  0.000  0.000  0.000  0.000   \n",
       "2020-09-16         1.0  0.000  0.000  0.000  0.000  0.000  0.000  0.000   \n",
       "\n",
       "lifetime              8      9      10     11     12     13     14     15  \n",
       "registration_date                                                          \n",
       "2020-09-01         0.041  0.054  0.051  0.054  0.049  0.055  0.043  0.044  \n",
       "2020-09-02         0.048  0.041  0.057  0.055  0.055  0.043  0.050  0.000  \n",
       "2020-09-03         0.055  0.063  0.063  0.055  0.058  0.060  0.000  0.000  \n",
       "2020-09-04         0.053  0.043  0.056  0.055  0.043  0.000  0.000  0.000  \n",
       "2020-09-05         0.051  0.055  0.060  0.052  0.000  0.000  0.000  0.000  \n",
       "2020-09-06         0.058  0.055  0.049  0.000  0.000  0.000  0.000  0.000  \n",
       "2020-09-07         0.041  0.056  0.000  0.000  0.000  0.000  0.000  0.000  \n",
       "2020-09-08         0.052  0.000  0.000  0.000  0.000  0.000  0.000  0.000  \n",
       "2020-09-09         0.000  0.000  0.000  0.000  0.000  0.000  0.000  0.000  \n",
       "2020-09-10         0.000  0.000  0.000  0.000  0.000  0.000  0.000  0.000  \n",
       "2020-09-11         0.000  0.000  0.000  0.000  0.000  0.000  0.000  0.000  \n",
       "2020-09-12         0.000  0.000  0.000  0.000  0.000  0.000  0.000  0.000  \n",
       "2020-09-13         0.000  0.000  0.000  0.000  0.000  0.000  0.000  0.000  \n",
       "2020-09-14         0.000  0.000  0.000  0.000  0.000  0.000  0.000  0.000  \n",
       "2020-09-15         0.000  0.000  0.000  0.000  0.000  0.000  0.000  0.000  \n",
       "2020-09-16         0.000  0.000  0.000  0.000  0.000  0.000  0.000  0.000  "
      ]
     },
     "execution_count": 7,
     "metadata": {},
     "output_type": "execute_result"
    },
    {
     "data": {
      "image/png": "[encoded data removed]",
      "text/plain": [
       "<Figure size 1224x576 with 2 Axes>"
      ]
     },
     "metadata": {
      "needs_background": "light"
     },
     "output_type": "display_data"
    }
   ],
   "source": [
    "# Проверяем функцию. Условия: дата - 2019-01-01, промежуток - 15 дней\n",
    "getting_retention_by_period(df_registrations, df_autorizations, '2020-09-01', 15)"
   ]
  },
  {
   "cell_type": "markdown",
   "metadata": {},
   "source": [
    "Здесь мы видим уровни удержания пользователей в течение 15-дневного периода, начиная с 1го сентября 2020 года.\n",
    "- Первоначальное удержание после регистрации (день 0) составляет 100%, что очевидно, тк все пользователи учитываются в день их регистрации.\n",
    "- Самые высокие уровни удержания после первого дня наблюдаются у пользователей, зарегистрировавшихся 3, 4 и 9 сентября. У этих дат удержание на второй день выше 3%."
   ]
  },
  {
   "cell_type": "markdown",
   "metadata": {},
   "source": [
    "# Задание 2"
   ]
  },
  {
   "cell_type": "markdown",
   "metadata": {},
   "source": [
    "Имеются результаты A/B теста, в котором двум группам пользователей предлагались различные наборы акционных предложений. Известно, что ARPU в тестовой группе выше на 5%, чем в контрольной. При этом в контрольной группе 1928 игроков из 202103 оказались платящими, а в тестовой – 1805 из 202667.\n",
    "\n",
    "Формат данных:"
   ]
  },
  {
   "cell_type": "code",
   "execution_count": 8,
   "metadata": {},
   "outputs": [
    {
     "data": {
      "text/html": [
       "<div>\n",
       "<style scoped>\n",
       "    .dataframe tbody tr th:only-of-type {\n",
       "        vertical-align: middle;\n",
       "    }\n",
       "\n",
       "    .dataframe tbody tr th {\n",
       "        vertical-align: top;\n",
       "    }\n",
       "\n",
       "    .dataframe thead th {\n",
       "        text-align: right;\n",
       "    }\n",
       "</style>\n",
       "<table border=\"1\" class=\"dataframe\">\n",
       "  <thead>\n",
       "    <tr style=\"text-align: right;\">\n",
       "      <th></th>\n",
       "      <th>user_id</th>\n",
       "      <th>revenue</th>\n",
       "      <th>testgroup</th>\n",
       "    </tr>\n",
       "  </thead>\n",
       "  <tbody>\n",
       "    <tr>\n",
       "      <th>0</th>\n",
       "      <td>1</td>\n",
       "      <td>0</td>\n",
       "      <td>b</td>\n",
       "    </tr>\n",
       "    <tr>\n",
       "      <th>1</th>\n",
       "      <td>2</td>\n",
       "      <td>0</td>\n",
       "      <td>a</td>\n",
       "    </tr>\n",
       "    <tr>\n",
       "      <th>2</th>\n",
       "      <td>3</td>\n",
       "      <td>0</td>\n",
       "      <td>a</td>\n",
       "    </tr>\n",
       "  </tbody>\n",
       "</table>\n",
       "</div>"
      ],
      "text/plain": [
       "   user_id  revenue testgroup\n",
       "0        1        0         b\n",
       "1        2        0         a\n",
       "2        3        0         a"
      ]
     },
     "execution_count": 8,
     "metadata": {},
     "output_type": "execute_result"
    }
   ],
   "source": [
    "df = pd.read_csv('/mnt/HC_Volume_18315164/home-jupyter/jupyter-a-salmanova/final_project/2.csv', sep=';')\n",
    "df.head(3)"
   ]
  },
  {
   "cell_type": "code",
   "execution_count": 9,
   "metadata": {},
   "outputs": [],
   "source": [
    "# user_id - идентификатор пользователя\n",
    "# revenue - выручка на пользователя\n",
    "# testgroup - группа пользователей\n",
    "# а - контрольная\n",
    "# b- тестовая (с изменениями)"
   ]
  },
  {
   "cell_type": "code",
   "execution_count": 10,
   "metadata": {},
   "outputs": [
    {
     "data": {
      "text/plain": [
       "user_id       int64\n",
       "revenue       int64\n",
       "testgroup    object\n",
       "dtype: object"
      ]
     },
     "execution_count": 10,
     "metadata": {},
     "output_type": "execute_result"
    }
   ],
   "source": [
    "# Сделаем анализ данных\n",
    "# Типы данных\n",
    "df.dtypes"
   ]
  },
  {
   "cell_type": "code",
   "execution_count": 11,
   "metadata": {},
   "outputs": [
    {
     "data": {
      "text/plain": [
       "user_id      404770\n",
       "revenue        1477\n",
       "testgroup         2\n",
       "dtype: int64"
      ]
     },
     "execution_count": 11,
     "metadata": {},
     "output_type": "execute_result"
    }
   ],
   "source": [
    "# Посчитаем число уникальных значений:\n",
    "df.nunique()"
   ]
  },
  {
   "cell_type": "code",
   "execution_count": 12,
   "metadata": {},
   "outputs": [
    {
     "data": {
      "text/plain": [
       "(404770, 3)"
      ]
     },
     "execution_count": 12,
     "metadata": {},
     "output_type": "execute_result"
    }
   ],
   "source": [
    "# Посчитаем общее количество строк и столбцов: \n",
    "df.shape"
   ]
  },
  {
   "cell_type": "code",
   "execution_count": 13,
   "metadata": {},
   "outputs": [
    {
     "name": "stdout",
     "output_type": "stream",
     "text": [
      "MIN - 0\n",
      "MAX - 37433\n"
     ]
    }
   ],
   "source": [
    "# Посчитаем минимальную и максимальную выручку:\n",
    "print('MIN -', df.revenue.min())\n",
    "print('MAX -', df.revenue.max())"
   ]
  },
  {
   "cell_type": "code",
   "execution_count": 14,
   "metadata": {},
   "outputs": [
    {
     "data": {
      "text/html": [
       "<div>\n",
       "<style scoped>\n",
       "    .dataframe tbody tr th:only-of-type {\n",
       "        vertical-align: middle;\n",
       "    }\n",
       "\n",
       "    .dataframe tbody tr th {\n",
       "        vertical-align: top;\n",
       "    }\n",
       "\n",
       "    .dataframe thead th {\n",
       "        text-align: right;\n",
       "    }\n",
       "</style>\n",
       "<table border=\"1\" class=\"dataframe\">\n",
       "  <thead>\n",
       "    <tr style=\"text-align: right;\">\n",
       "      <th></th>\n",
       "      <th>testgroup</th>\n",
       "      <th>user_id</th>\n",
       "    </tr>\n",
       "  </thead>\n",
       "  <tbody>\n",
       "    <tr>\n",
       "      <th>0</th>\n",
       "      <td>a</td>\n",
       "      <td>202103</td>\n",
       "    </tr>\n",
       "    <tr>\n",
       "      <th>1</th>\n",
       "      <td>b</td>\n",
       "      <td>202667</td>\n",
       "    </tr>\n",
       "  </tbody>\n",
       "</table>\n",
       "</div>"
      ],
      "text/plain": [
       "  testgroup  user_id\n",
       "0         a   202103\n",
       "1         b   202667"
      ]
     },
     "execution_count": 14,
     "metadata": {},
     "output_type": "execute_result"
    }
   ],
   "source": [
    "# Посмотрим сколько уникальных пользователей в каждой из групп:\n",
    "df.groupby('testgroup', as_index = False)[['user_id']].nunique()"
   ]
  },
  {
   "cell_type": "code",
   "execution_count": 15,
   "metadata": {},
   "outputs": [
    {
     "data": {
      "text/html": [
       "<div>\n",
       "<style scoped>\n",
       "    .dataframe tbody tr th:only-of-type {\n",
       "        vertical-align: middle;\n",
       "    }\n",
       "\n",
       "    .dataframe tbody tr th {\n",
       "        vertical-align: top;\n",
       "    }\n",
       "\n",
       "    .dataframe thead th {\n",
       "        text-align: right;\n",
       "    }\n",
       "</style>\n",
       "<table border=\"1\" class=\"dataframe\">\n",
       "  <thead>\n",
       "    <tr style=\"text-align: right;\">\n",
       "      <th></th>\n",
       "      <th>testgroup</th>\n",
       "      <th>user_id</th>\n",
       "    </tr>\n",
       "  </thead>\n",
       "  <tbody>\n",
       "    <tr>\n",
       "      <th>0</th>\n",
       "      <td>a</td>\n",
       "      <td>1928</td>\n",
       "    </tr>\n",
       "    <tr>\n",
       "      <th>1</th>\n",
       "      <td>b</td>\n",
       "      <td>1805</td>\n",
       "    </tr>\n",
       "  </tbody>\n",
       "</table>\n",
       "</div>"
      ],
      "text/plain": [
       "  testgroup  user_id\n",
       "0         a     1928\n",
       "1         b     1805"
      ]
     },
     "execution_count": 15,
     "metadata": {},
     "output_type": "execute_result"
    }
   ],
   "source": [
    "# Посчитаем число платящих пользователей в двух группах:\n",
    "df.query(\"revenue > 0\").groupby('testgroup', as_index = False)[['user_id']].nunique()"
   ]
  },
  {
   "cell_type": "markdown",
   "metadata": {},
   "source": [
    "- Есть 2 тестовых группы (а и b)\n",
    "- Уникальные значения = 404770 = кол-во строк => В датасете нет повторяющихся пользователей.\n",
    "- Показатель revenue начинается с 0, значит в этом столбце нет отрицательных значений, которые могли бы привести к некорректным данным.\n",
    "- В a 202103 пользователей, а в b 202667 пользовтелей => +- одинаково, можем проводить тесты дальше.\n",
    "- А тут встает вопрос, тк в группе а 1928 платящих пользователей, в группе b 1805 платящих пользователелей. Обратим внимание дальше на показатель СTR, тк он вероятно довольно сильно отличается в группах."
   ]
  },
  {
   "cell_type": "markdown",
   "metadata": {},
   "source": [
    "Какой набор предложений можно считать лучшим? Какие метрики стоит проанализировать для принятия правильного решения и как?"
   ]
  },
  {
   "cell_type": "code",
   "execution_count": 16,
   "metadata": {},
   "outputs": [
    {
     "data": {
      "text/html": [
       "<div>\n",
       "<style scoped>\n",
       "    .dataframe tbody tr th:only-of-type {\n",
       "        vertical-align: middle;\n",
       "    }\n",
       "\n",
       "    .dataframe tbody tr th {\n",
       "        vertical-align: top;\n",
       "    }\n",
       "\n",
       "    .dataframe thead th {\n",
       "        text-align: right;\n",
       "    }\n",
       "</style>\n",
       "<table border=\"1\" class=\"dataframe\">\n",
       "  <thead>\n",
       "    <tr style=\"text-align: right;\">\n",
       "      <th></th>\n",
       "      <th>user_id</th>\n",
       "      <th>revenue</th>\n",
       "    </tr>\n",
       "  </thead>\n",
       "  <tbody>\n",
       "    <tr>\n",
       "      <th>count</th>\n",
       "      <td>202103.000000</td>\n",
       "      <td>202103.000000</td>\n",
       "    </tr>\n",
       "    <tr>\n",
       "      <th>mean</th>\n",
       "      <td>202555.909843</td>\n",
       "      <td>25.413720</td>\n",
       "    </tr>\n",
       "    <tr>\n",
       "      <th>std</th>\n",
       "      <td>116802.329266</td>\n",
       "      <td>920.768137</td>\n",
       "    </tr>\n",
       "    <tr>\n",
       "      <th>min</th>\n",
       "      <td>2.000000</td>\n",
       "      <td>0.000000</td>\n",
       "    </tr>\n",
       "    <tr>\n",
       "      <th>25%</th>\n",
       "      <td>101502.500000</td>\n",
       "      <td>0.000000</td>\n",
       "    </tr>\n",
       "    <tr>\n",
       "      <th>50%</th>\n",
       "      <td>202988.000000</td>\n",
       "      <td>0.000000</td>\n",
       "    </tr>\n",
       "    <tr>\n",
       "      <th>75%</th>\n",
       "      <td>303559.000000</td>\n",
       "      <td>0.000000</td>\n",
       "    </tr>\n",
       "    <tr>\n",
       "      <th>max</th>\n",
       "      <td>404769.000000</td>\n",
       "      <td>37433.000000</td>\n",
       "    </tr>\n",
       "  </tbody>\n",
       "</table>\n",
       "</div>"
      ],
      "text/plain": [
       "             user_id        revenue\n",
       "count  202103.000000  202103.000000\n",
       "mean   202555.909843      25.413720\n",
       "std    116802.329266     920.768137\n",
       "min         2.000000       0.000000\n",
       "25%    101502.500000       0.000000\n",
       "50%    202988.000000       0.000000\n",
       "75%    303559.000000       0.000000\n",
       "max    404769.000000   37433.000000"
      ]
     },
     "execution_count": 16,
     "metadata": {},
     "output_type": "execute_result"
    }
   ],
   "source": [
    "df.query('testgroup == \"a\" ').describe()"
   ]
  },
  {
   "cell_type": "code",
   "execution_count": 17,
   "metadata": {},
   "outputs": [
    {
     "data": {
      "text/html": [
       "<div>\n",
       "<style scoped>\n",
       "    .dataframe tbody tr th:only-of-type {\n",
       "        vertical-align: middle;\n",
       "    }\n",
       "\n",
       "    .dataframe tbody tr th {\n",
       "        vertical-align: top;\n",
       "    }\n",
       "\n",
       "    .dataframe thead th {\n",
       "        text-align: right;\n",
       "    }\n",
       "</style>\n",
       "<table border=\"1\" class=\"dataframe\">\n",
       "  <thead>\n",
       "    <tr style=\"text-align: right;\">\n",
       "      <th></th>\n",
       "      <th>user_id</th>\n",
       "      <th>revenue</th>\n",
       "    </tr>\n",
       "  </thead>\n",
       "  <tbody>\n",
       "    <tr>\n",
       "      <th>count</th>\n",
       "      <td>202667.000000</td>\n",
       "      <td>202667.000000</td>\n",
       "    </tr>\n",
       "    <tr>\n",
       "      <th>mean</th>\n",
       "      <td>202215.564389</td>\n",
       "      <td>26.751287</td>\n",
       "    </tr>\n",
       "    <tr>\n",
       "      <th>std</th>\n",
       "      <td>116891.926690</td>\n",
       "      <td>287.324162</td>\n",
       "    </tr>\n",
       "    <tr>\n",
       "      <th>min</th>\n",
       "      <td>1.000000</td>\n",
       "      <td>0.000000</td>\n",
       "    </tr>\n",
       "    <tr>\n",
       "      <th>25%</th>\n",
       "      <td>100855.500000</td>\n",
       "      <td>0.000000</td>\n",
       "    </tr>\n",
       "    <tr>\n",
       "      <th>50%</th>\n",
       "      <td>201821.000000</td>\n",
       "      <td>0.000000</td>\n",
       "    </tr>\n",
       "    <tr>\n",
       "      <th>75%</th>\n",
       "      <td>303602.500000</td>\n",
       "      <td>0.000000</td>\n",
       "    </tr>\n",
       "    <tr>\n",
       "      <th>max</th>\n",
       "      <td>404770.000000</td>\n",
       "      <td>4000.000000</td>\n",
       "    </tr>\n",
       "  </tbody>\n",
       "</table>\n",
       "</div>"
      ],
      "text/plain": [
       "             user_id        revenue\n",
       "count  202667.000000  202667.000000\n",
       "mean   202215.564389      26.751287\n",
       "std    116891.926690     287.324162\n",
       "min         1.000000       0.000000\n",
       "25%    100855.500000       0.000000\n",
       "50%    201821.000000       0.000000\n",
       "75%    303602.500000       0.000000\n",
       "max    404770.000000    4000.000000"
      ]
     },
     "execution_count": 17,
     "metadata": {},
     "output_type": "execute_result"
    }
   ],
   "source": [
    "df.query('testgroup == \"b\" ').describe()"
   ]
  },
  {
   "cell_type": "code",
   "execution_count": 18,
   "metadata": {},
   "outputs": [
    {
     "data": {
      "text/html": [
       "<div>\n",
       "<style scoped>\n",
       "    .dataframe tbody tr th:only-of-type {\n",
       "        vertical-align: middle;\n",
       "    }\n",
       "\n",
       "    .dataframe tbody tr th {\n",
       "        vertical-align: top;\n",
       "    }\n",
       "\n",
       "    .dataframe thead th {\n",
       "        text-align: right;\n",
       "    }\n",
       "</style>\n",
       "<table border=\"1\" class=\"dataframe\">\n",
       "  <thead>\n",
       "    <tr style=\"text-align: right;\">\n",
       "      <th></th>\n",
       "      <th>user_id</th>\n",
       "      <th>revenue</th>\n",
       "    </tr>\n",
       "  </thead>\n",
       "  <tbody>\n",
       "    <tr>\n",
       "      <th>count</th>\n",
       "      <td>1928.000000</td>\n",
       "      <td>1928.000000</td>\n",
       "    </tr>\n",
       "    <tr>\n",
       "      <th>mean</th>\n",
       "      <td>200152.677905</td>\n",
       "      <td>2663.998444</td>\n",
       "    </tr>\n",
       "    <tr>\n",
       "      <th>std</th>\n",
       "      <td>116596.504905</td>\n",
       "      <td>9049.039763</td>\n",
       "    </tr>\n",
       "    <tr>\n",
       "      <th>min</th>\n",
       "      <td>73.000000</td>\n",
       "      <td>200.000000</td>\n",
       "    </tr>\n",
       "    <tr>\n",
       "      <th>25%</th>\n",
       "      <td>99323.000000</td>\n",
       "      <td>257.000000</td>\n",
       "    </tr>\n",
       "    <tr>\n",
       "      <th>50%</th>\n",
       "      <td>199854.500000</td>\n",
       "      <td>311.000000</td>\n",
       "    </tr>\n",
       "    <tr>\n",
       "      <th>75%</th>\n",
       "      <td>299664.250000</td>\n",
       "      <td>361.000000</td>\n",
       "    </tr>\n",
       "    <tr>\n",
       "      <th>max</th>\n",
       "      <td>404768.000000</td>\n",
       "      <td>37433.000000</td>\n",
       "    </tr>\n",
       "  </tbody>\n",
       "</table>\n",
       "</div>"
      ],
      "text/plain": [
       "             user_id       revenue\n",
       "count    1928.000000   1928.000000\n",
       "mean   200152.677905   2663.998444\n",
       "std    116596.504905   9049.039763\n",
       "min        73.000000    200.000000\n",
       "25%     99323.000000    257.000000\n",
       "50%    199854.500000    311.000000\n",
       "75%    299664.250000    361.000000\n",
       "max    404768.000000  37433.000000"
      ]
     },
     "execution_count": 18,
     "metadata": {},
     "output_type": "execute_result"
    }
   ],
   "source": [
    "df.query('testgroup == \"a\" & revenue > 0').describe()"
   ]
  },
  {
   "cell_type": "code",
   "execution_count": 19,
   "metadata": {},
   "outputs": [
    {
     "data": {
      "text/html": [
       "<div>\n",
       "<style scoped>\n",
       "    .dataframe tbody tr th:only-of-type {\n",
       "        vertical-align: middle;\n",
       "    }\n",
       "\n",
       "    .dataframe tbody tr th {\n",
       "        vertical-align: top;\n",
       "    }\n",
       "\n",
       "    .dataframe thead th {\n",
       "        text-align: right;\n",
       "    }\n",
       "</style>\n",
       "<table border=\"1\" class=\"dataframe\">\n",
       "  <thead>\n",
       "    <tr style=\"text-align: right;\">\n",
       "      <th></th>\n",
       "      <th>user_id</th>\n",
       "      <th>revenue</th>\n",
       "    </tr>\n",
       "  </thead>\n",
       "  <tbody>\n",
       "    <tr>\n",
       "      <th>count</th>\n",
       "      <td>1805.000000</td>\n",
       "      <td>1805.000000</td>\n",
       "    </tr>\n",
       "    <tr>\n",
       "      <th>mean</th>\n",
       "      <td>205834.548476</td>\n",
       "      <td>3003.658172</td>\n",
       "    </tr>\n",
       "    <tr>\n",
       "      <th>std</th>\n",
       "      <td>116400.045485</td>\n",
       "      <td>572.619709</td>\n",
       "    </tr>\n",
       "    <tr>\n",
       "      <th>min</th>\n",
       "      <td>161.000000</td>\n",
       "      <td>2000.000000</td>\n",
       "    </tr>\n",
       "    <tr>\n",
       "      <th>25%</th>\n",
       "      <td>106815.000000</td>\n",
       "      <td>2513.000000</td>\n",
       "    </tr>\n",
       "    <tr>\n",
       "      <th>50%</th>\n",
       "      <td>206651.000000</td>\n",
       "      <td>3022.000000</td>\n",
       "    </tr>\n",
       "    <tr>\n",
       "      <th>75%</th>\n",
       "      <td>304907.000000</td>\n",
       "      <td>3478.000000</td>\n",
       "    </tr>\n",
       "    <tr>\n",
       "      <th>max</th>\n",
       "      <td>404526.000000</td>\n",
       "      <td>4000.000000</td>\n",
       "    </tr>\n",
       "  </tbody>\n",
       "</table>\n",
       "</div>"
      ],
      "text/plain": [
       "             user_id      revenue\n",
       "count    1805.000000  1805.000000\n",
       "mean   205834.548476  3003.658172\n",
       "std    116400.045485   572.619709\n",
       "min       161.000000  2000.000000\n",
       "25%    106815.000000  2513.000000\n",
       "50%    206651.000000  3022.000000\n",
       "75%    304907.000000  3478.000000\n",
       "max    404526.000000  4000.000000"
      ]
     },
     "execution_count": 19,
     "metadata": {},
     "output_type": "execute_result"
    }
   ],
   "source": [
    "df.query('testgroup == \"b\" & revenue > 0').describe()"
   ]
  },
  {
   "cell_type": "markdown",
   "metadata": {},
   "source": [
    "Изучим распределение дохода всех пользователей и заплативших пользователей в каждой из групп\n",
    "\n",
    "Cреди заплативших пользователей в группе a:\n",
    "- среднее и медианное значение сильно отличаются\n",
    "- стандартное отклонение = 9049 (большой разброс значений)\n",
    "Cреди заплативших пользователей в группе b:\n",
    "- среднее и медианное значение примерно равны \n",
    "\n",
    "\n",
    "Для всех пользователей между группами:\n",
    "- Средние значения выручки примерно одинаковы\n",
    "- Стандартное отклонение и максимальное значение выручки сильно различаются.\n",
    "\n",
    "На основе выше проведенного анализа выборки кажутся нерепрезентативными и распределение платежей не подходит под нормальное. Проверим это в дальнейших тестах."
   ]
  },
  {
   "cell_type": "markdown",
   "metadata": {},
   "source": [
    "**Метрики**\n",
    "- ARPU - средний доход с каждого пользователя (ARPU = Доход/Кол-во пользователей).\n",
    "- ARPPU -  средний доход с каждого заплатившего пользователя (ARPPU = Доход/Кол-во клиентов).\n",
    "- CR - доля пользователей, которые совершили платеж (СR = Кол-во клиентов/Кол-во пользователей)"
   ]
  },
  {
   "cell_type": "code",
   "execution_count": 20,
   "metadata": {},
   "outputs": [],
   "source": [
    "df_users = df.groupby('testgroup', as_index=False).agg({'user_id':'count'}).rename(columns={'user_id':'users'}) \n",
    "df_clients = df.query('revenue != 0').groupby('testgroup', as_index=False).agg({'user_id':'count'}).rename(columns={'user_id':'clients'})\n",
    "df_revenue = df.groupby('testgroup', as_index=False).agg({'revenue':'sum'}) "
   ]
  },
  {
   "cell_type": "code",
   "execution_count": 21,
   "metadata": {},
   "outputs": [],
   "source": [
    "df_all = df_users.merge(df_clients, on = 'testgroup').merge(df_revenue, on = 'testgroup')"
   ]
  },
  {
   "cell_type": "code",
   "execution_count": 22,
   "metadata": {},
   "outputs": [
    {
     "data": {
      "text/html": [
       "<div>\n",
       "<style scoped>\n",
       "    .dataframe tbody tr th:only-of-type {\n",
       "        vertical-align: middle;\n",
       "    }\n",
       "\n",
       "    .dataframe tbody tr th {\n",
       "        vertical-align: top;\n",
       "    }\n",
       "\n",
       "    .dataframe thead th {\n",
       "        text-align: right;\n",
       "    }\n",
       "</style>\n",
       "<table border=\"1\" class=\"dataframe\">\n",
       "  <thead>\n",
       "    <tr style=\"text-align: right;\">\n",
       "      <th></th>\n",
       "      <th>testgroup</th>\n",
       "      <th>users</th>\n",
       "      <th>clients</th>\n",
       "      <th>revenue</th>\n",
       "      <th>ARPU</th>\n",
       "      <th>ARPPU</th>\n",
       "      <th>CR</th>\n",
       "    </tr>\n",
       "  </thead>\n",
       "  <tbody>\n",
       "    <tr>\n",
       "      <th>0</th>\n",
       "      <td>a</td>\n",
       "      <td>202103</td>\n",
       "      <td>1928</td>\n",
       "      <td>5136189</td>\n",
       "      <td>25.41</td>\n",
       "      <td>2664.00</td>\n",
       "      <td>0.95</td>\n",
       "    </tr>\n",
       "    <tr>\n",
       "      <th>1</th>\n",
       "      <td>b</td>\n",
       "      <td>202667</td>\n",
       "      <td>1805</td>\n",
       "      <td>5421603</td>\n",
       "      <td>26.75</td>\n",
       "      <td>3003.66</td>\n",
       "      <td>0.89</td>\n",
       "    </tr>\n",
       "  </tbody>\n",
       "</table>\n",
       "</div>"
      ],
      "text/plain": [
       "  testgroup   users  clients  revenue   ARPU    ARPPU    CR\n",
       "0         a  202103     1928  5136189  25.41  2664.00  0.95\n",
       "1         b  202667     1805  5421603  26.75  3003.66  0.89"
      ]
     },
     "execution_count": 22,
     "metadata": {},
     "output_type": "execute_result"
    }
   ],
   "source": [
    "df_all['ARPU'] = (df_all.revenue/df_all.users).round(2)\n",
    "df_all['ARPPU'] = (df_all.revenue/df_all.clients).round(2)\n",
    "df_all['CR'] = (df_all.clients/df_all.users*100).round(2)\n",
    "df_all"
   ]
  },
  {
   "cell_type": "markdown",
   "metadata": {},
   "source": [
    "Что мы сразу видим?\n",
    "- В тестовой группе было задействовано больше пользователей \n",
    "- В тестовой группе общая сумма всех покупок увеличилась\n",
    "- В тестовой группе выше средний доход на пользователя\n",
    "- В тестовой группе значительно выше средних доход на платящего пользователя\n",
    "- В контрольной группе число заплативших пользователей выше\n",
    "- В контрольной группе конверция в клиента больше "
   ]
  },
  {
   "cell_type": "code",
   "execution_count": 23,
   "metadata": {},
   "outputs": [
    {
     "data": {
      "image/png": "[encoded data removed]",
      "text/plain": [
       "<Figure size 432x288 with 1 Axes>"
      ]
     },
     "metadata": {
      "needs_background": "light"
     },
     "output_type": "display_data"
    }
   ],
   "source": [
    "# Построим распределение выручки пользователей для двух групп:\n",
    "plt.title('Распределение выручки для платящих пользователей групп a и b')\n",
    "ax = sns.boxplot(data = df.query(\"revenue > 0\"), x = 'testgroup', y = 'revenue')"
   ]
  },
  {
   "cell_type": "code",
   "execution_count": 24,
   "metadata": {},
   "outputs": [
    {
     "data": {
      "text/plain": [
       "<matplotlib.axes._subplots.AxesSubplot at 0x7f65041bc7b8>"
      ]
     },
     "execution_count": 24,
     "metadata": {},
     "output_type": "execute_result"
    },
    {
     "data": {
      "image/png": "[encoded data removed]",
      "text/plain": [
       "<Figure size 864x360 with 1 Axes>"
      ]
     },
     "metadata": {
      "needs_background": "light"
     },
     "output_type": "display_data"
    }
   ],
   "source": [
    "# Построим распределение выручки пользователей для двух групп:\n",
    "plt.figure(figsize=(12, 5))\n",
    "plt.title('Распределение выручки для платящих пользователей двух групп')\n",
    "sns.histplot(data = df.query(\"revenue > 0\"), x='revenue', hue='testgroup')"
   ]
  },
  {
   "cell_type": "markdown",
   "metadata": {},
   "source": [
    "Распределения выручки для двух групп кардинально различаются между собой. В группе а имеются большие выбросы"
   ]
  },
  {
   "cell_type": "code",
   "execution_count": 25,
   "metadata": {},
   "outputs": [
    {
     "name": "stderr",
     "output_type": "stream",
     "text": [
      "/opt/tljh/user/lib/python3.7/site-packages/seaborn/distributions.py:2557: FutureWarning: `distplot` is a deprecated function and will be removed in a future version. Please adapt your code to use either `displot` (a figure-level function with similar flexibility) or `histplot` (an axes-level function for histograms).\n",
      "  warnings.warn(msg, FutureWarning)\n",
      "/opt/tljh/user/lib/python3.7/site-packages/seaborn/distributions.py:2557: FutureWarning: `distplot` is a deprecated function and will be removed in a future version. Please adapt your code to use either `displot` (a figure-level function with similar flexibility) or `histplot` (an axes-level function for histograms).\n",
      "  warnings.warn(msg, FutureWarning)\n",
      "/opt/tljh/user/lib/python3.7/site-packages/seaborn/distributions.py:2557: FutureWarning: `distplot` is a deprecated function and will be removed in a future version. Please adapt your code to use either `displot` (a figure-level function with similar flexibility) or `histplot` (an axes-level function for histograms).\n",
      "  warnings.warn(msg, FutureWarning)\n"
     ]
    },
    {
     "data": {
      "image/png": "[encoded data removed]",
      "text/plain": [
       "<Figure size 1440x360 with 3 Axes>"
      ]
     },
     "metadata": {
      "needs_background": "light"
     },
     "output_type": "display_data"
    }
   ],
   "source": [
    "fig, ax = plt.subplots(1,3, figsize=(20, 5))\n",
    "sns.distplot(df.query('revenue != 0 & testgroup == \"a\" & revenue < 3500').revenue, kde=False, ax=ax[0]).set_title('testgroup a, revenue < 3500')\n",
    "sns.distplot(df.query('revenue != 0 & testgroup == \"a\" & revenue >= 3500').revenue, kde=False, ax=ax[1]).set_title('testgroup a, revenue >= 3500')\n",
    "sns.distplot(df.query('revenue != 0 & testgroup == \"b\"').revenue, kde=False, ax=ax[2], color = 'green').set_title('testgroup b')\n",
    "\n",
    "\n",
    "plt.show()"
   ]
  },
  {
   "cell_type": "markdown",
   "metadata": {},
   "source": [
    "Как мы и предполагали, распределение визуально не выглядит нормальным.     "
   ]
  },
  {
   "cell_type": "code",
   "execution_count": 26,
   "metadata": {},
   "outputs": [],
   "source": [
    "df_a = df.query('testgroup == \"a\"')\n",
    "df_b = df.query('testgroup == \"b\"')"
   ]
  },
  {
   "cell_type": "code",
   "execution_count": 27,
   "metadata": {},
   "outputs": [
    {
     "data": {
      "text/plain": [
       "(0.2667924761772156, 0.0)"
      ]
     },
     "execution_count": 27,
     "metadata": {},
     "output_type": "execute_result"
    }
   ],
   "source": [
    "# Проверим это с помощью критерия Шапиро-Уилка.\n",
    "df_a_revenue = df_a.query('revenue > 0')\n",
    "stat, p = ss.shapiro(df_a_revenue['revenue'])\n",
    "stat, p"
   ]
  },
  {
   "cell_type": "markdown",
   "metadata": {},
   "source": [
    "Н0: распределение данных нормальное\n",
    "p-value = 0.0 < 0.05 => Отклоняем гипотезу"
   ]
  },
  {
   "cell_type": "code",
   "execution_count": 28,
   "metadata": {},
   "outputs": [
    {
     "data": {
      "text/plain": [
       "(0.9583123922348022, 2.491345674771425e-22)"
      ]
     },
     "execution_count": 28,
     "metadata": {},
     "output_type": "execute_result"
    }
   ],
   "source": [
    "df_b_revenue = df_b.query('revenue > 0')\n",
    "stat, p = ss.shapiro(df_b_revenue['revenue'])\n",
    "stat, p"
   ]
  },
  {
   "cell_type": "markdown",
   "metadata": {},
   "source": [
    "Н0: распределение данных нормальное\n",
    "p-value = 0.0 < 0.05 => Отклоняем гипотезу"
   ]
  },
  {
   "cell_type": "code",
   "execution_count": 29,
   "metadata": {},
   "outputs": [
    {
     "data": {
      "text/plain": [
       "MannwhitneyuResult(statistic=222015.0, pvalue=0.0)"
      ]
     },
     "execution_count": 29,
     "metadata": {},
     "output_type": "execute_result"
    }
   ],
   "source": [
    "# Для допольнительной проверки используем критерий Манна-Уитни\n",
    "ss.mannwhitneyu(df_a_revenue.revenue, df_b_revenue.revenue)"
   ]
  },
  {
   "cell_type": "markdown",
   "metadata": {},
   "source": [
    "p-value = 0.0 < 0.05 => Отклоняем гипотезу\n",
    "- После двух тестов делаем вывод => \n",
    "- Распределение - не нормальное =>\n",
    "- Применяем метод бутстрап"
   ]
  },
  {
   "cell_type": "code",
   "execution_count": 30,
   "metadata": {},
   "outputs": [],
   "source": [
    "# Проверим, являются ли эти различия статистически значимы, или нет.\n",
    "def get_bootstrap(\n",
    "    data_column_1, # числовые значения первой выборки\n",
    "    data_column_2, # числовые значения второй выборки\n",
    "    boot_it = 1000, # количество бутстрэп-подвыборок\n",
    "    statistic = np.mean, # интересующая нас статистика\n",
    "    bootstrap_conf_level = 0.95 # уровень значимости\n",
    "):\n",
    "    boot_len = max([len(data_column_1), len(data_column_2)])\n",
    "    boot_data = []\n",
    "    for i in tqdm(range(boot_it)): # извлекаем подвыборки\n",
    "        samples_1 = data_column_1.sample(\n",
    "            boot_len, \n",
    "            replace = True # параметр возвращения\n",
    "        ).values\n",
    "        \n",
    "        samples_2 = data_column_2.sample(\n",
    "            boot_len, # чтобы сохранить дисперсию, берем такой же размер выборки\n",
    "            replace = True\n",
    "        ).values\n",
    "        \n",
    "        boot_data.append(statistic(samples_1-samples_2)) \n",
    "    pd_boot_data = pd.DataFrame(boot_data)\n",
    "        \n",
    "    left_quant = (1 - bootstrap_conf_level)/2\n",
    "    right_quant = 1 - (1 - bootstrap_conf_level) / 2\n",
    "    quants = pd_boot_data.quantile([left_quant, right_quant])\n",
    "        \n",
    "    p_1 = norm.cdf(\n",
    "        x = 0, \n",
    "        loc = np.mean(boot_data), \n",
    "        scale = np.std(boot_data)\n",
    "    )\n",
    "    p_2 = norm.cdf(\n",
    "        x = 0, \n",
    "        loc = -np.mean(boot_data), \n",
    "        scale = np.std(boot_data)\n",
    "    )\n",
    "    p_value = min(p_1, p_2) * 2\n",
    "        \n",
    "    # Визуализация\n",
    "    _, _, bars = plt.hist(pd_boot_data[0], bins = 50)\n",
    "    for bar in bars:\n",
    "        if abs(bar.get_x()) <= quants.iloc[0][0] or abs(bar.get_x()) >= quants.iloc[1][0]:\n",
    "            bar.set_facecolor('red')\n",
    "        else: \n",
    "            bar.set_facecolor('grey')\n",
    "            bar.set_edgecolor('black')\n",
    "    \n",
    "    plt.style.use('ggplot')\n",
    "    plt.vlines(quants,ymin=0,ymax=50,linestyle='--')\n",
    "    plt.xlabel('boot_data')\n",
    "    plt.ylabel('frequency')\n",
    "    plt.title(\"Histogram of boot_data\")\n",
    "    plt.show()\n",
    "       \n",
    "    return {\"boot_data\": boot_data, \n",
    "            \"quants\": quants, \n",
    "            \"p_value\": p_value}"
   ]
  },
  {
   "cell_type": "code",
   "execution_count": 31,
   "metadata": {},
   "outputs": [],
   "source": [
    "df_bootstrap = df.copy()"
   ]
  },
  {
   "cell_type": "code",
   "execution_count": 32,
   "metadata": {},
   "outputs": [
    {
     "data": {
      "application/vnd.jupyter.widget-view+json": {
       "model_id": "4dd57c5790b849c68bc3401e5ad149ba",
       "version_major": 2,
       "version_minor": 0
      },
      "text/plain": [
       "HBox(children=(FloatProgress(value=0.0, max=1000.0), HTML(value='')))"
      ]
     },
     "metadata": {},
     "output_type": "display_data"
    },
    {
     "name": "stdout",
     "output_type": "stream",
     "text": [
      "\n"
     ]
    },
    {
     "data": {
      "image/png": "[encoded data removed]",
      "text/plain": [
       "<Figure size 432x288 with 1 Axes>"
      ]
     },
     "metadata": {
      "needs_background": "light"
     },
     "output_type": "display_data"
    },
    {
     "data": {
      "text/plain": [
       "0.5485233461903165"
      ]
     },
     "execution_count": 32,
     "metadata": {},
     "output_type": "execute_result"
    }
   ],
   "source": [
    "ARPU_bootstrap = get_bootstrap(df_a.revenue, df_b.revenue)\n",
    "ARPU_bootstrap['p_value']"
   ]
  },
  {
   "cell_type": "markdown",
   "metadata": {},
   "source": [
    "- ARPU : Н0: в группах нет статистически значимых различий\n",
    "- Значение p_value > 0.05\n",
    "- 0 лежит между доверительными границами =>\n",
    "- Отклонить нулевую гипотезу мы не можем =>\n",
    "- Статистически значимых различий нет."
   ]
  },
  {
   "cell_type": "code",
   "execution_count": 33,
   "metadata": {},
   "outputs": [
    {
     "data": {
      "application/vnd.jupyter.widget-view+json": {
       "model_id": "a78523067cf54821ac2dd06518d1710c",
       "version_major": 2,
       "version_minor": 0
      },
      "text/plain": [
       "HBox(children=(FloatProgress(value=0.0, max=1000.0), HTML(value='')))"
      ]
     },
     "metadata": {},
     "output_type": "display_data"
    },
    {
     "name": "stdout",
     "output_type": "stream",
     "text": [
      "\n"
     ]
    },
    {
     "data": {
      "image/png": "[encoded data removed]",
      "text/plain": [
       "<Figure size 432x288 with 1 Axes>"
      ]
     },
     "metadata": {},
     "output_type": "display_data"
    },
    {
     "data": {
      "text/plain": [
       "0.08755093743763534"
      ]
     },
     "execution_count": 33,
     "metadata": {},
     "output_type": "execute_result"
    }
   ],
   "source": [
    "ARPPU_bootstrap = get_bootstrap(df_a_revenue.revenue, df_b_revenue.revenue)\n",
    "ARPPU_bootstrap['p_value']"
   ]
  },
  {
   "cell_type": "markdown",
   "metadata": {},
   "source": [
    "-  ARPPU : Н0: в группах нет статистически значимых различий\n",
    "- p-value > 0.05\n",
    "- 0 лежит между доверительными границами \n",
    "=> Статистически значимых различий нет."
   ]
  },
  {
   "cell_type": "code",
   "execution_count": 34,
   "metadata": {},
   "outputs": [
    {
     "data": {
      "text/html": [
       "<div>\n",
       "<style scoped>\n",
       "    .dataframe tbody tr th:only-of-type {\n",
       "        vertical-align: middle;\n",
       "    }\n",
       "\n",
       "    .dataframe tbody tr th {\n",
       "        vertical-align: top;\n",
       "    }\n",
       "\n",
       "    .dataframe thead th {\n",
       "        text-align: right;\n",
       "    }\n",
       "</style>\n",
       "<table border=\"1\" class=\"dataframe\">\n",
       "  <thead>\n",
       "    <tr style=\"text-align: right;\">\n",
       "      <th></th>\n",
       "      <th>users</th>\n",
       "      <th>clients</th>\n",
       "    </tr>\n",
       "    <tr>\n",
       "      <th>testgroup</th>\n",
       "      <th></th>\n",
       "      <th></th>\n",
       "    </tr>\n",
       "  </thead>\n",
       "  <tbody>\n",
       "    <tr>\n",
       "      <th>a</th>\n",
       "      <td>202103</td>\n",
       "      <td>1928</td>\n",
       "    </tr>\n",
       "    <tr>\n",
       "      <th>b</th>\n",
       "      <td>202667</td>\n",
       "      <td>1805</td>\n",
       "    </tr>\n",
       "  </tbody>\n",
       "</table>\n",
       "</div>"
      ],
      "text/plain": [
       "            users  clients\n",
       "testgroup                 \n",
       "a          202103     1928\n",
       "b          202667     1805"
      ]
     },
     "execution_count": 34,
     "metadata": {},
     "output_type": "execute_result"
    }
   ],
   "source": [
    "df_alls = df_all.set_index('testgroup')\n",
    "df_CR = df_alls[['users', 'clients']]\n",
    "df_CR"
   ]
  },
  {
   "cell_type": "code",
   "execution_count": 35,
   "metadata": {},
   "outputs": [
    {
     "data": {
      "text/plain": [
       "(4.294148751290091, 0.03824373651044168)"
      ]
     },
     "execution_count": 35,
     "metadata": {},
     "output_type": "execute_result"
    }
   ],
   "source": [
    "# C помощью критерия хи-квадрат проверим равны ли распределения \n",
    "stat, p, dof, expected = chi2_contingency(df_CR)\n",
    "stat, p"
   ]
  },
  {
   "cell_type": "markdown",
   "metadata": {},
   "source": [
    "- СR : H0: В группах нет статистически значимых различий и взаимосвязи между переменными нет\n",
    "- p-value < 0.05 =>\n",
    "- Отклоняем гипотезу Н0\n",
    "- CR группы a статистически значимо больше, чем CR группы b"
   ]
  },
  {
   "cell_type": "markdown",
   "metadata": {},
   "source": [
    "Вывод по заданию 2:\n",
    " \n",
    "Для принятия решения были проанализированы метрики ARPU, ARPPU, CR. Статистически значимых отличий по метрикам ARPU и ARPPU не обнаружено. Но в случае с СR - выявлены статистически значимые различия между группами. В группе a наблюдается увеличение CR по сравнению с группой b, при этом средняя выручка не изменилась => акционные предложения в группе a лучше по сравнению с группой b.\n",
    "\n",
    "Рекомендации:\n",
    "Тк в группе а достаточно высокие выбросы (либо нет покупок, либо малое кол-во пользователей с крупным чеком), а в b все покупки лежат в среднем диапазоне, стоит пересплитовать данные, сделать А/А тест и только потом проводить на А/Б тест.  А так же провести более детальный анализ плательщиков с крупным чеком."
   ]
  },
  {
   "cell_type": "markdown",
   "metadata": {},
   "source": [
    "# Задание 3"
   ]
  },
  {
   "cell_type": "markdown",
   "metadata": {},
   "source": [
    "В игре Plants & Gardens каждый месяц проводятся тематические события, ограниченные по времени. В них игроки могут получить уникальные предметы для сада и персонажей, дополнительные монеты или бонусы. Для получения награды требуется пройти ряд уровней за определенное время. С помощью каких метрик можно оценить результаты последнего прошедшего события?"
   ]
  },
  {
   "cell_type": "markdown",
   "metadata": {},
   "source": [
    "Метрики:\n",
    "1. MAU / WAU / DAU - это количество уникальных пользователей, которые зашли в приложение в течение месяца, недели, суток. Опрелеляем интерес пользователя.\n",
    "\n",
    "2. Sticky Factor = DAU/MAU — показатель лояльности аудитории к приложению. Отследим, как часто пользователи возвращаются в приложение.\n",
    "\n",
    "3. Time spent / AVG Time spent / - время, которое пользователь провел в приложении/среднее время сессий за период времени. \n",
    "4. Количество сеансов (сессий) на пользователя за месяц. Поймем, насколько актуально наше приложение для пользователя и есть ли сезонности по дате.\n",
    "\n",
    "5. CR (Conversion Rate) - конверсия уникальных игроков в платящих. Узнаем, стимулирует ли теематическое событие пользователей покупать продукт.\n",
    "\n",
    "6. NewUsers - доля новых пользователей, пришедших через ивент.\n",
    "7. Has_bonus - получал или нет уникальные предметы для сада и персонажей, дополнительные монеты или бонусы. Сможем сравнить метрики и узнать, на какие из влияют бонусы.\n",
    "8. Retention Rate - процент клиентов, которые возвращаются в приложение. Оценим процент возвращения юзеров после их участия в ивенте. Если падает = модернизируем событие, тк возможно слишком сложно получить призы.\n",
    "9. ARPU / ARPPU - средний доход в месяц с привлеченного пользователя / клиента (платящего пользователя). Узнаем, как повлияло событе на увеличение средней доходности от пользователей."
   ]
  },
  {
   "cell_type": "markdown",
   "metadata": {},
   "source": [
    "Предположим, в другом событии мы усложнили механику событий так, что при каждой неудачной попытке выполнения уровня игрок будет откатываться на несколько уровней назад. Изменится ли набор метрик оценки результата? Если да, то как?"
   ]
  },
  {
   "cell_type": "markdown",
   "metadata": {},
   "source": [
    "Все тоже самое +\n",
    "- Параметр : Был ли откат. Сравним другие метрики, учитывая параметр, и узнаем какое действие оказывает.\n",
    "- Отток пользователей - Узнаем, сколько пользователей уходят при откате.\n",
    "- Лояльность пользователей - Узнаем, сколько пользователей продолжают играть при откате.\n",
    "- Максимальное кол-во откатов - Выявим самый сложный уровень, где происходят откаты."
   ]
  }
 ],
 "metadata": {
  "kernelspec": {
   "display_name": "Python 3",
   "language": "python",
   "name": "python3"
  },
  "language_info": {
   "codemirror_mode": {
    "name": "ipython",
    "version": 3
   },
   "file_extension": ".py",
   "mimetype": "text/x-python",
   "name": "python",
   "nbconvert_exporter": "python",
   "pygments_lexer": "ipython3",
   "version": "3.7.3"
  }
 },
 "nbformat": 4,
 "nbformat_minor": 4
}
